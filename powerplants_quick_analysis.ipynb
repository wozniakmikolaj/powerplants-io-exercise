{
 "cells": [
  {
   "cell_type": "markdown",
   "metadata": {},
   "source": [
    "## Initial analysis"
   ]
  },
  {
   "cell_type": "code",
   "execution_count": 1,
   "metadata": {},
   "outputs": [],
   "source": [
    "import numpy as np\n",
    "import pandas as pd\n",
    "\n",
    "\n",
    "data_path = \"global_power_plant_database.csv\""
   ]
  },
  {
   "cell_type": "code",
   "execution_count": 2,
   "metadata": {},
   "outputs": [],
   "source": [
    "powerplant_data = pd.read_csv(data_path)"
   ]
  },
  {
   "cell_type": "code",
   "execution_count": 4,
   "metadata": {},
   "outputs": [
    {
     "data": {
      "text/html": [
       "<div>\n",
       "<style scoped>\n",
       "    .dataframe tbody tr th:only-of-type {\n",
       "        vertical-align: middle;\n",
       "    }\n",
       "\n",
       "    .dataframe tbody tr th {\n",
       "        vertical-align: top;\n",
       "    }\n",
       "\n",
       "    .dataframe thead th {\n",
       "        text-align: right;\n",
       "    }\n",
       "</style>\n",
       "<table border=\"1\" class=\"dataframe\">\n",
       "  <thead>\n",
       "    <tr style=\"text-align: right;\">\n",
       "      <th></th>\n",
       "      <th>country</th>\n",
       "      <th>country_long</th>\n",
       "      <th>name</th>\n",
       "      <th>gppd_idnr</th>\n",
       "      <th>capacity_mw</th>\n",
       "      <th>latitude</th>\n",
       "      <th>longitude</th>\n",
       "      <th>primary_fuel</th>\n",
       "      <th>other_fuel1</th>\n",
       "      <th>other_fuel2</th>\n",
       "      <th>...</th>\n",
       "      <th>url</th>\n",
       "      <th>geolocation_source</th>\n",
       "      <th>wepp_id</th>\n",
       "      <th>year_of_capacity_data</th>\n",
       "      <th>generation_gwh_2013</th>\n",
       "      <th>generation_gwh_2014</th>\n",
       "      <th>generation_gwh_2015</th>\n",
       "      <th>generation_gwh_2016</th>\n",
       "      <th>generation_gwh_2017</th>\n",
       "      <th>estimated_generation_gwh</th>\n",
       "    </tr>\n",
       "  </thead>\n",
       "  <tbody>\n",
       "    <tr>\n",
       "      <th>0</th>\n",
       "      <td>AFG</td>\n",
       "      <td>Afghanistan</td>\n",
       "      <td>Kajaki Hydroelectric Power Plant Afghanistan</td>\n",
       "      <td>GEODB0040538</td>\n",
       "      <td>33.00</td>\n",
       "      <td>32.3220</td>\n",
       "      <td>65.1190</td>\n",
       "      <td>Hydro</td>\n",
       "      <td>NaN</td>\n",
       "      <td>NaN</td>\n",
       "      <td>...</td>\n",
       "      <td>http://globalenergyobservatory.org</td>\n",
       "      <td>GEODB</td>\n",
       "      <td>1009793</td>\n",
       "      <td>2017.0</td>\n",
       "      <td>NaN</td>\n",
       "      <td>NaN</td>\n",
       "      <td>NaN</td>\n",
       "      <td>NaN</td>\n",
       "      <td>NaN</td>\n",
       "      <td>NaN</td>\n",
       "    </tr>\n",
       "    <tr>\n",
       "      <th>1</th>\n",
       "      <td>AFG</td>\n",
       "      <td>Afghanistan</td>\n",
       "      <td>Mahipar Hydroelectric Power Plant Afghanistan</td>\n",
       "      <td>GEODB0040541</td>\n",
       "      <td>66.00</td>\n",
       "      <td>34.5560</td>\n",
       "      <td>69.4787</td>\n",
       "      <td>Hydro</td>\n",
       "      <td>NaN</td>\n",
       "      <td>NaN</td>\n",
       "      <td>...</td>\n",
       "      <td>http://globalenergyobservatory.org</td>\n",
       "      <td>GEODB</td>\n",
       "      <td>1009795</td>\n",
       "      <td>2017.0</td>\n",
       "      <td>NaN</td>\n",
       "      <td>NaN</td>\n",
       "      <td>NaN</td>\n",
       "      <td>NaN</td>\n",
       "      <td>NaN</td>\n",
       "      <td>NaN</td>\n",
       "    </tr>\n",
       "    <tr>\n",
       "      <th>2</th>\n",
       "      <td>AFG</td>\n",
       "      <td>Afghanistan</td>\n",
       "      <td>Naghlu Dam Hydroelectric Power Plant Afghanistan</td>\n",
       "      <td>GEODB0040534</td>\n",
       "      <td>100.00</td>\n",
       "      <td>34.6410</td>\n",
       "      <td>69.7170</td>\n",
       "      <td>Hydro</td>\n",
       "      <td>NaN</td>\n",
       "      <td>NaN</td>\n",
       "      <td>...</td>\n",
       "      <td>http://globalenergyobservatory.org</td>\n",
       "      <td>GEODB</td>\n",
       "      <td>1009797</td>\n",
       "      <td>2017.0</td>\n",
       "      <td>NaN</td>\n",
       "      <td>NaN</td>\n",
       "      <td>NaN</td>\n",
       "      <td>NaN</td>\n",
       "      <td>NaN</td>\n",
       "      <td>NaN</td>\n",
       "    </tr>\n",
       "    <tr>\n",
       "      <th>3</th>\n",
       "      <td>AFG</td>\n",
       "      <td>Afghanistan</td>\n",
       "      <td>Nangarhar (Darunta) Hydroelectric Power Plant ...</td>\n",
       "      <td>GEODB0040536</td>\n",
       "      <td>11.55</td>\n",
       "      <td>34.4847</td>\n",
       "      <td>70.3633</td>\n",
       "      <td>Hydro</td>\n",
       "      <td>NaN</td>\n",
       "      <td>NaN</td>\n",
       "      <td>...</td>\n",
       "      <td>http://globalenergyobservatory.org</td>\n",
       "      <td>GEODB</td>\n",
       "      <td>1009787</td>\n",
       "      <td>2017.0</td>\n",
       "      <td>NaN</td>\n",
       "      <td>NaN</td>\n",
       "      <td>NaN</td>\n",
       "      <td>NaN</td>\n",
       "      <td>NaN</td>\n",
       "      <td>NaN</td>\n",
       "    </tr>\n",
       "    <tr>\n",
       "      <th>4</th>\n",
       "      <td>AFG</td>\n",
       "      <td>Afghanistan</td>\n",
       "      <td>Northwest Kabul Power Plant Afghanistan</td>\n",
       "      <td>GEODB0040540</td>\n",
       "      <td>42.00</td>\n",
       "      <td>34.5638</td>\n",
       "      <td>69.1134</td>\n",
       "      <td>Gas</td>\n",
       "      <td>NaN</td>\n",
       "      <td>NaN</td>\n",
       "      <td>...</td>\n",
       "      <td>http://globalenergyobservatory.org</td>\n",
       "      <td>GEODB</td>\n",
       "      <td>NaN</td>\n",
       "      <td>2017.0</td>\n",
       "      <td>NaN</td>\n",
       "      <td>NaN</td>\n",
       "      <td>NaN</td>\n",
       "      <td>NaN</td>\n",
       "      <td>NaN</td>\n",
       "      <td>NaN</td>\n",
       "    </tr>\n",
       "  </tbody>\n",
       "</table>\n",
       "<p>5 rows × 24 columns</p>\n",
       "</div>"
      ],
      "text/plain": [
       "  country country_long                                               name  \\\n",
       "0     AFG  Afghanistan       Kajaki Hydroelectric Power Plant Afghanistan   \n",
       "1     AFG  Afghanistan      Mahipar Hydroelectric Power Plant Afghanistan   \n",
       "2     AFG  Afghanistan   Naghlu Dam Hydroelectric Power Plant Afghanistan   \n",
       "3     AFG  Afghanistan  Nangarhar (Darunta) Hydroelectric Power Plant ...   \n",
       "4     AFG  Afghanistan            Northwest Kabul Power Plant Afghanistan   \n",
       "\n",
       "      gppd_idnr  capacity_mw  latitude  longitude primary_fuel other_fuel1  \\\n",
       "0  GEODB0040538        33.00   32.3220    65.1190        Hydro         NaN   \n",
       "1  GEODB0040541        66.00   34.5560    69.4787        Hydro         NaN   \n",
       "2  GEODB0040534       100.00   34.6410    69.7170        Hydro         NaN   \n",
       "3  GEODB0040536        11.55   34.4847    70.3633        Hydro         NaN   \n",
       "4  GEODB0040540        42.00   34.5638    69.1134          Gas         NaN   \n",
       "\n",
       "  other_fuel2  ...                                 url  geolocation_source  \\\n",
       "0         NaN  ...  http://globalenergyobservatory.org               GEODB   \n",
       "1         NaN  ...  http://globalenergyobservatory.org               GEODB   \n",
       "2         NaN  ...  http://globalenergyobservatory.org               GEODB   \n",
       "3         NaN  ...  http://globalenergyobservatory.org               GEODB   \n",
       "4         NaN  ...  http://globalenergyobservatory.org               GEODB   \n",
       "\n",
       "   wepp_id year_of_capacity_data generation_gwh_2013 generation_gwh_2014  \\\n",
       "0  1009793                2017.0                 NaN                 NaN   \n",
       "1  1009795                2017.0                 NaN                 NaN   \n",
       "2  1009797                2017.0                 NaN                 NaN   \n",
       "3  1009787                2017.0                 NaN                 NaN   \n",
       "4      NaN                2017.0                 NaN                 NaN   \n",
       "\n",
       "  generation_gwh_2015  generation_gwh_2016  generation_gwh_2017  \\\n",
       "0                 NaN                  NaN                  NaN   \n",
       "1                 NaN                  NaN                  NaN   \n",
       "2                 NaN                  NaN                  NaN   \n",
       "3                 NaN                  NaN                  NaN   \n",
       "4                 NaN                  NaN                  NaN   \n",
       "\n",
       "   estimated_generation_gwh  \n",
       "0                       NaN  \n",
       "1                       NaN  \n",
       "2                       NaN  \n",
       "3                       NaN  \n",
       "4                       NaN  \n",
       "\n",
       "[5 rows x 24 columns]"
      ]
     },
     "execution_count": 4,
     "metadata": {},
     "output_type": "execute_result"
    }
   ],
   "source": [
    "powerplant_data.head(5)"
   ]
  },
  {
   "cell_type": "markdown",
   "metadata": {},
   "source": [
    "Let's see the dataset size."
   ]
  },
  {
   "cell_type": "code",
   "execution_count": 5,
   "metadata": {},
   "outputs": [
    {
     "name": "stdout",
     "output_type": "stream",
     "text": [
      "The dataset consists of 29910 rows and 24 columns\n"
     ]
    }
   ],
   "source": [
    "print(f\"The dataset consists of {powerplant_data.shape[0]} rows and {powerplant_data.shape[1]} columns\")"
   ]
  },
  {
   "cell_type": "markdown",
   "metadata": {},
   "source": [
    "Let's see columns of the dataset."
   ]
  },
  {
   "cell_type": "code",
   "execution_count": 6,
   "metadata": {},
   "outputs": [
    {
     "data": {
      "text/plain": [
       "Index(['country', 'country_long', 'name', 'gppd_idnr', 'capacity_mw',\n",
       "       'latitude', 'longitude', 'primary_fuel', 'other_fuel1', 'other_fuel2',\n",
       "       'other_fuel3', 'commissioning_year', 'owner', 'source', 'url',\n",
       "       'geolocation_source', 'wepp_id', 'year_of_capacity_data',\n",
       "       'generation_gwh_2013', 'generation_gwh_2014', 'generation_gwh_2015',\n",
       "       'generation_gwh_2016', 'generation_gwh_2017',\n",
       "       'estimated_generation_gwh'],\n",
       "      dtype='object')"
      ]
     },
     "execution_count": 6,
     "metadata": {},
     "output_type": "execute_result"
    }
   ],
   "source": [
    "powerplant_data.columns"
   ]
  },
  {
   "cell_type": "markdown",
   "metadata": {},
   "source": [
    "Companies with most powerplants"
   ]
  },
  {
   "cell_type": "code",
   "execution_count": 7,
   "metadata": {},
   "outputs": [
    {
     "data": {
      "text/plain": [
       "NaN                              10379\n",
       "Lightsource Renewable Energy       120\n",
       "Cypress Creek Renewables           109\n",
       "Sustainable Power Group  LLC        85\n",
       "Verbund                             83\n",
       "Pacific Gas & Electric Co.          81\n",
       "Erie Boulevard Hydropower LP        71\n",
       "CFE                                 66\n",
       "100% Vattenfall                     65\n",
       "Southern California Edison Co       62\n",
       "WM Renewable Energy LLC             61\n",
       "PacifiCorp                          59\n",
       "Tesla Inc.                          58\n",
       "Hydro-Québec                        58\n",
       "U S Bureau of Reclamation           57\n",
       "Name: owner, dtype: int64"
      ]
     },
     "execution_count": 7,
     "metadata": {},
     "output_type": "execute_result"
    }
   ],
   "source": [
    "powerplant_data['owner'].value_counts(dropna=False).head(15)"
   ]
  },
  {
   "cell_type": "markdown",
   "metadata": {},
   "source": [
    "Countries with most powerplants"
   ]
  },
  {
   "cell_type": "code",
   "execution_count": 8,
   "metadata": {},
   "outputs": [
    {
     "data": {
      "text/plain": [
       "United States of America    8686\n",
       "China                       3041\n",
       "United Kingdom              2536\n",
       "Brazil                      2340\n",
       "France                      2017\n",
       "Canada                      1154\n",
       "Germany                      982\n",
       "India                        861\n",
       "Spain                        614\n",
       "Russia                       505\n",
       "Portugal                     462\n",
       "Czech Republic               457\n",
       "Australia                    429\n",
       "Japan                        329\n",
       "Norway                       306\n",
       "Name: country_long, dtype: int64"
      ]
     },
     "execution_count": 8,
     "metadata": {},
     "output_type": "execute_result"
    }
   ],
   "source": [
    "powerplant_data['country_long'].value_counts(dropna=False).head(15)"
   ]
  },
  {
   "cell_type": "markdown",
   "metadata": {},
   "source": [
    "Primary powerplant type"
   ]
  },
  {
   "cell_type": "code",
   "execution_count": 9,
   "metadata": {},
   "outputs": [
    {
     "data": {
      "text/plain": [
       "Hydro             23.921765\n",
       "Solar             19.822802\n",
       "Wind              17.345369\n",
       "Gas               13.112671\n",
       "Coal               7.990639\n",
       "Oil                7.656302\n",
       "Biomass            4.667335\n",
       "Waste              3.634236\n",
       "Nuclear            0.661986\n",
       "Geothermal         0.631896\n",
       "Storage            0.193915\n",
       "Other              0.147108\n",
       "Cogeneration       0.137078\n",
       "Petcoke            0.043464\n",
       "Wave and Tidal     0.033434\n",
       "Name: primary_fuel, dtype: float64"
      ]
     },
     "execution_count": 9,
     "metadata": {},
     "output_type": "execute_result"
    }
   ],
   "source": [
    "powerplant_data['primary_fuel'].value_counts(normalize=True, dropna=False)*100"
   ]
  },
  {
   "cell_type": "markdown",
   "metadata": {},
   "source": [
    "## Let's see some cool facts, for starters, Tesla powerplants"
   ]
  },
  {
   "cell_type": "code",
   "execution_count": 10,
   "metadata": {},
   "outputs": [
    {
     "data": {
      "text/html": [
       "<div>\n",
       "<style scoped>\n",
       "    .dataframe tbody tr th:only-of-type {\n",
       "        vertical-align: middle;\n",
       "    }\n",
       "\n",
       "    .dataframe tbody tr th {\n",
       "        vertical-align: top;\n",
       "    }\n",
       "\n",
       "    .dataframe thead th {\n",
       "        text-align: right;\n",
       "    }\n",
       "</style>\n",
       "<table border=\"1\" class=\"dataframe\">\n",
       "  <thead>\n",
       "    <tr style=\"text-align: right;\">\n",
       "      <th></th>\n",
       "      <th>country</th>\n",
       "      <th>country_long</th>\n",
       "      <th>name</th>\n",
       "      <th>gppd_idnr</th>\n",
       "      <th>capacity_mw</th>\n",
       "      <th>latitude</th>\n",
       "      <th>longitude</th>\n",
       "      <th>primary_fuel</th>\n",
       "      <th>other_fuel1</th>\n",
       "      <th>other_fuel2</th>\n",
       "      <th>...</th>\n",
       "      <th>url</th>\n",
       "      <th>geolocation_source</th>\n",
       "      <th>wepp_id</th>\n",
       "      <th>year_of_capacity_data</th>\n",
       "      <th>generation_gwh_2013</th>\n",
       "      <th>generation_gwh_2014</th>\n",
       "      <th>generation_gwh_2015</th>\n",
       "      <th>generation_gwh_2016</th>\n",
       "      <th>generation_gwh_2017</th>\n",
       "      <th>estimated_generation_gwh</th>\n",
       "    </tr>\n",
       "  </thead>\n",
       "  <tbody>\n",
       "    <tr>\n",
       "      <th>20925</th>\n",
       "      <td>USA</td>\n",
       "      <td>United States of America</td>\n",
       "      <td>AVS Lancaster 1</td>\n",
       "      <td>USA0060085</td>\n",
       "      <td>3.7</td>\n",
       "      <td>34.7489</td>\n",
       "      <td>-117.9736</td>\n",
       "      <td>Solar</td>\n",
       "      <td>NaN</td>\n",
       "      <td>NaN</td>\n",
       "      <td>...</td>\n",
       "      <td>http://www.eia.gov/electricity/data/browser/</td>\n",
       "      <td>U.S. Energy Information Administration</td>\n",
       "      <td>70684</td>\n",
       "      <td>2017.0</td>\n",
       "      <td>NaN</td>\n",
       "      <td>NaN</td>\n",
       "      <td>NaN</td>\n",
       "      <td>0.000</td>\n",
       "      <td>8.472</td>\n",
       "      <td>1.649932</td>\n",
       "    </tr>\n",
       "    <tr>\n",
       "      <th>20931</th>\n",
       "      <td>USA</td>\n",
       "      <td>United States of America</td>\n",
       "      <td>Actus Lend Lease DMAFB</td>\n",
       "      <td>USA0058632</td>\n",
       "      <td>3.0</td>\n",
       "      <td>32.1825</td>\n",
       "      <td>-110.8633</td>\n",
       "      <td>Solar</td>\n",
       "      <td>NaN</td>\n",
       "      <td>NaN</td>\n",
       "      <td>...</td>\n",
       "      <td>http://www.eia.gov/electricity/data/browser/</td>\n",
       "      <td>U.S. Energy Information Administration</td>\n",
       "      <td>NaN</td>\n",
       "      <td>2017.0</td>\n",
       "      <td>4.93317</td>\n",
       "      <td>4.56687</td>\n",
       "      <td>4.39659</td>\n",
       "      <td>4.481</td>\n",
       "      <td>4.402</td>\n",
       "      <td>NaN</td>\n",
       "    </tr>\n",
       "    <tr>\n",
       "      <th>20954</th>\n",
       "      <td>USA</td>\n",
       "      <td>United States of America</td>\n",
       "      <td>Advance Stores Company  Inc</td>\n",
       "      <td>USA0059788</td>\n",
       "      <td>1.0</td>\n",
       "      <td>42.0150</td>\n",
       "      <td>-72.5119</td>\n",
       "      <td>Solar</td>\n",
       "      <td>NaN</td>\n",
       "      <td>NaN</td>\n",
       "      <td>...</td>\n",
       "      <td>http://www.eia.gov/electricity/data/browser/</td>\n",
       "      <td>U.S. Energy Information Administration</td>\n",
       "      <td>NaN</td>\n",
       "      <td>2017.0</td>\n",
       "      <td>NaN</td>\n",
       "      <td>0.07623</td>\n",
       "      <td>1.38006</td>\n",
       "      <td>1.447</td>\n",
       "      <td>1.308</td>\n",
       "      <td>NaN</td>\n",
       "    </tr>\n",
       "    <tr>\n",
       "      <th>21317</th>\n",
       "      <td>USA</td>\n",
       "      <td>United States of America</td>\n",
       "      <td>BJ's Wholesale Club  Inc- Uxbridge</td>\n",
       "      <td>USA0060116</td>\n",
       "      <td>1.0</td>\n",
       "      <td>42.0197</td>\n",
       "      <td>-71.6041</td>\n",
       "      <td>Solar</td>\n",
       "      <td>NaN</td>\n",
       "      <td>NaN</td>\n",
       "      <td>...</td>\n",
       "      <td>http://www.eia.gov/electricity/data/browser/</td>\n",
       "      <td>U.S. Energy Information Administration</td>\n",
       "      <td>NaN</td>\n",
       "      <td>2017.0</td>\n",
       "      <td>NaN</td>\n",
       "      <td>NaN</td>\n",
       "      <td>NaN</td>\n",
       "      <td>0.000</td>\n",
       "      <td>0.388</td>\n",
       "      <td>0.445928</td>\n",
       "    </tr>\n",
       "    <tr>\n",
       "      <th>21318</th>\n",
       "      <td>USA</td>\n",
       "      <td>United States of America</td>\n",
       "      <td>BJ's Wholesale Club Inc Dist Center</td>\n",
       "      <td>USA0060227</td>\n",
       "      <td>1.4</td>\n",
       "      <td>40.0985</td>\n",
       "      <td>-74.8259</td>\n",
       "      <td>Solar</td>\n",
       "      <td>NaN</td>\n",
       "      <td>NaN</td>\n",
       "      <td>...</td>\n",
       "      <td>http://www.eia.gov/electricity/data/browser/</td>\n",
       "      <td>U.S. Energy Information Administration</td>\n",
       "      <td>NaN</td>\n",
       "      <td>2017.0</td>\n",
       "      <td>NaN</td>\n",
       "      <td>NaN</td>\n",
       "      <td>NaN</td>\n",
       "      <td>0.299</td>\n",
       "      <td>2.299</td>\n",
       "      <td>0.624299</td>\n",
       "    </tr>\n",
       "  </tbody>\n",
       "</table>\n",
       "<p>5 rows × 24 columns</p>\n",
       "</div>"
      ],
      "text/plain": [
       "      country              country_long                                 name  \\\n",
       "20925     USA  United States of America                      AVS Lancaster 1   \n",
       "20931     USA  United States of America               Actus Lend Lease DMAFB   \n",
       "20954     USA  United States of America          Advance Stores Company  Inc   \n",
       "21317     USA  United States of America   BJ's Wholesale Club  Inc- Uxbridge   \n",
       "21318     USA  United States of America  BJ's Wholesale Club Inc Dist Center   \n",
       "\n",
       "        gppd_idnr  capacity_mw  latitude  longitude primary_fuel other_fuel1  \\\n",
       "20925  USA0060085          3.7   34.7489  -117.9736        Solar         NaN   \n",
       "20931  USA0058632          3.0   32.1825  -110.8633        Solar         NaN   \n",
       "20954  USA0059788          1.0   42.0150   -72.5119        Solar         NaN   \n",
       "21317  USA0060116          1.0   42.0197   -71.6041        Solar         NaN   \n",
       "21318  USA0060227          1.4   40.0985   -74.8259        Solar         NaN   \n",
       "\n",
       "      other_fuel2  ...                                           url  \\\n",
       "20925         NaN  ...  http://www.eia.gov/electricity/data/browser/   \n",
       "20931         NaN  ...  http://www.eia.gov/electricity/data/browser/   \n",
       "20954         NaN  ...  http://www.eia.gov/electricity/data/browser/   \n",
       "21317         NaN  ...  http://www.eia.gov/electricity/data/browser/   \n",
       "21318         NaN  ...  http://www.eia.gov/electricity/data/browser/   \n",
       "\n",
       "                           geolocation_source wepp_id year_of_capacity_data  \\\n",
       "20925  U.S. Energy Information Administration   70684                2017.0   \n",
       "20931  U.S. Energy Information Administration     NaN                2017.0   \n",
       "20954  U.S. Energy Information Administration     NaN                2017.0   \n",
       "21317  U.S. Energy Information Administration     NaN                2017.0   \n",
       "21318  U.S. Energy Information Administration     NaN                2017.0   \n",
       "\n",
       "      generation_gwh_2013 generation_gwh_2014 generation_gwh_2015  \\\n",
       "20925                 NaN                 NaN                 NaN   \n",
       "20931             4.93317             4.56687             4.39659   \n",
       "20954                 NaN             0.07623             1.38006   \n",
       "21317                 NaN                 NaN                 NaN   \n",
       "21318                 NaN                 NaN                 NaN   \n",
       "\n",
       "       generation_gwh_2016  generation_gwh_2017  estimated_generation_gwh  \n",
       "20925                0.000                8.472                  1.649932  \n",
       "20931                4.481                4.402                       NaN  \n",
       "20954                1.447                1.308                       NaN  \n",
       "21317                0.000                0.388                  0.445928  \n",
       "21318                0.299                2.299                  0.624299  \n",
       "\n",
       "[5 rows x 24 columns]"
      ]
     },
     "execution_count": 10,
     "metadata": {},
     "output_type": "execute_result"
    }
   ],
   "source": [
    "tesla_powerplant_data = powerplant_data[powerplant_data[\"owner\"] == \"Tesla Inc.\"]\n",
    "tesla_powerplant_data.head(5)"
   ]
  },
  {
   "cell_type": "code",
   "execution_count": 13,
   "metadata": {},
   "outputs": [
    {
     "name": "stdout",
     "output_type": "stream",
     "text": [
      "Currently, Tesla Inc. has 58 powerplants; all of them solar\n"
     ]
    }
   ],
   "source": [
    "print(f\"Currently, Tesla Inc. has {tesla_powerplant_data.shape[0]} powerplants; all of them solar\")"
   ]
  },
  {
   "cell_type": "code",
   "execution_count": 12,
   "metadata": {},
   "outputs": [
    {
     "data": {
      "text/plain": [
       "USA    100.0\n",
       "Name: country, dtype: float64"
      ]
     },
     "execution_count": 12,
     "metadata": {},
     "output_type": "execute_result"
    }
   ],
   "source": [
    "tesla_powerplant_data['country'].value_counts(normalize=True, dropna=False)*100"
   ]
  },
  {
   "cell_type": "markdown",
   "metadata": {},
   "source": [
    "### To-do next:\n",
    "- data cleaning\n",
    "- deciding on what to do with this dataset"
   ]
  },
  {
   "cell_type": "code",
   "execution_count": null,
   "metadata": {},
   "outputs": [],
   "source": []
  },
  {
   "cell_type": "code",
   "execution_count": null,
   "metadata": {},
   "outputs": [],
   "source": []
  },
  {
   "cell_type": "code",
   "execution_count": null,
   "metadata": {},
   "outputs": [],
   "source": []
  },
  {
   "cell_type": "code",
   "execution_count": null,
   "metadata": {},
   "outputs": [],
   "source": []
  },
  {
   "cell_type": "code",
   "execution_count": null,
   "metadata": {},
   "outputs": [],
   "source": []
  }
 ],
 "metadata": {
  "kernelspec": {
   "display_name": "Python 3",
   "language": "python",
   "name": "python3"
  },
  "language_info": {
   "codemirror_mode": {
    "name": "ipython",
    "version": 3
   },
   "file_extension": ".py",
   "mimetype": "text/x-python",
   "name": "python",
   "nbconvert_exporter": "python",
   "pygments_lexer": "ipython3",
   "version": "3.8.6"
  }
 },
 "nbformat": 4,
 "nbformat_minor": 4
}
